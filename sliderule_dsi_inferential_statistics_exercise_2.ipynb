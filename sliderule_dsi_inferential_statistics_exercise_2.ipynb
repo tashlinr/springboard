{
 "cells": [
  {
   "cell_type": "markdown",
   "metadata": {},
   "source": [
    "\n",
    "### Examining racial discrimination in the US job market\n",
    "\n",
    "#### Background\n",
    "Racial discrimination continues to be pervasive in cultures throughout the world. Researchers examined the level of racial discrimination in the United States labor market by randomly assigning identical résumés black-sounding or white-sounding names and observing the impact on requests for interviews from employers.\n",
    "\n",
    "#### Data\n",
    "In the dataset provided, each row represents a resume. The 'race' column has two values, 'b' and 'w', indicating black-sounding and white-sounding. The column 'call' has two values, 1 and 0, indicating whether the resume received a call from employers or not.\n",
    "\n",
    "Note that the 'b' and 'w' values in race are assigned randomly to the resumes.\n",
    "\n",
    "#### Exercise\n",
    "You will perform a statistical analysis to establish whether race has a significant impact on the rate of callbacks for resumes.\n",
    "\n",
    "Answer the following questions **in this notebook below and submit to your Github account**. \n",
    "\n",
    "   1. What test is appropriate for this problem? Does CLT apply?\n",
    "   2. What are the null and alternate hypotheses?\n",
    "   3. Compute margin of error, confidence interval, and p-value.\n",
    "   4. Discuss statistical significance.\n",
    "\n",
    "You can include written notes in notebook cells using Markdown: \n",
    "   - In the control panel at the top, choose Cell > Cell Type > Markdown\n",
    "   - Markdown syntax: http://nestacms.com/docs/creating-content/markdown-cheat-sheet\n",
    "\n",
    "\n",
    "#### Resources\n",
    "+ Experiment information and data source: http://www.povertyactionlab.org/evaluation/discrimination-job-market-united-states\n",
    "+ Scipy statistical methods: http://docs.scipy.org/doc/scipy/reference/stats.html \n",
    "+ Markdown syntax: http://nestacms.com/docs/creating-content/markdown-cheat-sheet\n",
    "\n",
    "****"
   ]
  },
  {
   "cell_type": "code",
   "execution_count": 1,
   "metadata": {
    "collapsed": true
   },
   "outputs": [],
   "source": [
    "%matplotlib inline\n",
    "\n",
    "import pandas as pd\n",
    "import matplotlib\n",
    "import matplotlib.pyplot as plt\n",
    "import numpy as np\n",
    "import scipy.stats as stats"
   ]
  },
  {
   "cell_type": "code",
   "execution_count": 2,
   "metadata": {
    "collapsed": false
   },
   "outputs": [],
   "source": [
    "data = pd.io.stata.read_stata('data/us_job_market_discrimination.dta')"
   ]
  },
  {
   "cell_type": "markdown",
   "metadata": {},
   "source": [
    "### Question 1 - What test is appropriate for this problem? Does CLT apply?\n",
    "\n",
    "#### Answer\n",
    "    Considering both the t-test and z-test, one would think that the t-test is more appropriate for this problem.\n",
    "    Ideally we would use the z-test, but only 1 of the two conditions are met.\n",
    "    1. Yes, sample size(n) > 30 \n",
    "    2. No, population standard deviation is not known\n",
    "    Therefore we use the t-test.\n",
    "    \n",
    "    CLT applies in this context because the sample size is large. "
   ]
  },
  {
   "cell_type": "markdown",
   "metadata": {},
   "source": [
    "### Question 2 - What are the null and alternate hypotheses?\n",
    "\n",
    "#### Answer\n",
    "    Null(H0)- There is no discrimination in the labour market of the U.S.A based on whether a name is black-sounding or white-sounding. Ie. The response rates are the same with factors considered.\n",
    "    Alternate(H1) - There is discrimination in the labour market of the U.S.A based on whether a name is black-sounding or white-sounding. Ie. The callback rates are the different. \n",
    "    "
   ]
  },
  {
   "cell_type": "markdown",
   "metadata": {},
   "source": [
    "### Question 3 - Compute margin of error, confidence interval, and p-value."
   ]
  },
  {
   "cell_type": "code",
   "execution_count": 35,
   "metadata": {
    "collapsed": true
   },
   "outputs": [],
   "source": [
    "dfb = data[data['race']=='b']\n",
    "dfw = data[data['race']=='w']\n",
    "callback = data['call']"
   ]
  },
  {
   "cell_type": "code",
   "execution_count": 37,
   "metadata": {
    "collapsed": false
   },
   "outputs": [
    {
     "name": "stdout",
     "output_type": "stream",
     "text": [
      "Margin of error is 0.00764086832945\n"
     ]
    }
   ],
   "source": [
    "moe = 1.96 * np.std(callback)/np.sqrt(len(callback))\n",
    "print \"Margin of error is\", moe"
   ]
  },
  {
   "cell_type": "code",
   "execution_count": 38,
   "metadata": {
    "collapsed": false
   },
   "outputs": [
    {
     "name": "stdout",
     "output_type": "stream",
     "text": [
      "(0.072851948535994943, 0.088133685194893424)\n"
     ]
    }
   ],
   "source": [
    "avg = callback.mean()\n",
    "print (avg-moe,avg+moe)\n"
   ]
  },
  {
   "cell_type": "code",
   "execution_count": 34,
   "metadata": {
    "collapsed": false
   },
   "outputs": [
    {
     "data": {
      "text/plain": [
       "(4.1147052908617514, 3.9408021031288859e-05)"
      ]
     },
     "execution_count": 34,
     "metadata": {},
     "output_type": "execute_result"
    }
   ],
   "source": [
    "t_stat, pval = stats.ttest_ind(dfw['call'], dfb['call'])\n",
    "t_stat, pval"
   ]
  },
  {
   "cell_type": "markdown",
   "metadata": {},
   "source": [
    "#### Answer - Question 3\n",
    "\n",
    "Margin of error is 0.76%\n",
    "\n",
    "Confidence Interval is (7.2%, 8.8%)\n",
    "\n",
    "P-value is 3.94e-05\n",
    "\n"
   ]
  },
  {
   "cell_type": "markdown",
   "metadata": {},
   "source": [
    "### Question 4 - Discuss statistical significance."
   ]
  },
  {
   "cell_type": "code",
   "execution_count": 57,
   "metadata": {
    "collapsed": false
   },
   "outputs": [
    {
     "name": "stdout",
     "output_type": "stream",
     "text": [
      "Callback rates for people with black-sounding names -  0.0644763857126\n",
      "Callback rates for people with black-sounding names -  0.0965092405677\n"
     ]
    }
   ],
   "source": [
    "print \"Callback rates for people with black-sounding names - \", dfb['call'].mean()\n",
    "print \"Callback rates for people with black-sounding names - \", dfw['call'].mean()"
   ]
  },
  {
   "cell_type": "code",
   "execution_count": 42,
   "metadata": {
    "collapsed": false
   },
   "outputs": [
    {
     "data": {
      "text/html": [
       "<div>\n",
       "<table border=\"1\" class=\"dataframe\">\n",
       "  <thead>\n",
       "    <tr style=\"text-align: right;\">\n",
       "      <th></th>\n",
       "      <th>id</th>\n",
       "      <th>ad</th>\n",
       "      <th>education</th>\n",
       "      <th>ofjobs</th>\n",
       "      <th>yearsexp</th>\n",
       "      <th>honors</th>\n",
       "      <th>volunteer</th>\n",
       "      <th>military</th>\n",
       "      <th>empholes</th>\n",
       "      <th>occupspecific</th>\n",
       "      <th>...</th>\n",
       "      <th>compreq</th>\n",
       "      <th>orgreq</th>\n",
       "      <th>manuf</th>\n",
       "      <th>transcom</th>\n",
       "      <th>bankreal</th>\n",
       "      <th>trade</th>\n",
       "      <th>busservice</th>\n",
       "      <th>othservice</th>\n",
       "      <th>missind</th>\n",
       "      <th>ownership</th>\n",
       "    </tr>\n",
       "  </thead>\n",
       "  <tbody>\n",
       "    <tr>\n",
       "      <th>0</th>\n",
       "      <td>b</td>\n",
       "      <td>1</td>\n",
       "      <td>4</td>\n",
       "      <td>2</td>\n",
       "      <td>6</td>\n",
       "      <td>0</td>\n",
       "      <td>0</td>\n",
       "      <td>0</td>\n",
       "      <td>1</td>\n",
       "      <td>17</td>\n",
       "      <td>...</td>\n",
       "      <td>1.0</td>\n",
       "      <td>0.0</td>\n",
       "      <td>1.0</td>\n",
       "      <td>0.0</td>\n",
       "      <td>0.0</td>\n",
       "      <td>0.0</td>\n",
       "      <td>0.0</td>\n",
       "      <td>0.0</td>\n",
       "      <td>0.0</td>\n",
       "      <td></td>\n",
       "    </tr>\n",
       "    <tr>\n",
       "      <th>1</th>\n",
       "      <td>b</td>\n",
       "      <td>1</td>\n",
       "      <td>3</td>\n",
       "      <td>3</td>\n",
       "      <td>6</td>\n",
       "      <td>0</td>\n",
       "      <td>1</td>\n",
       "      <td>1</td>\n",
       "      <td>0</td>\n",
       "      <td>316</td>\n",
       "      <td>...</td>\n",
       "      <td>1.0</td>\n",
       "      <td>0.0</td>\n",
       "      <td>1.0</td>\n",
       "      <td>0.0</td>\n",
       "      <td>0.0</td>\n",
       "      <td>0.0</td>\n",
       "      <td>0.0</td>\n",
       "      <td>0.0</td>\n",
       "      <td>0.0</td>\n",
       "      <td></td>\n",
       "    </tr>\n",
       "    <tr>\n",
       "      <th>2</th>\n",
       "      <td>b</td>\n",
       "      <td>1</td>\n",
       "      <td>4</td>\n",
       "      <td>1</td>\n",
       "      <td>6</td>\n",
       "      <td>0</td>\n",
       "      <td>0</td>\n",
       "      <td>0</td>\n",
       "      <td>0</td>\n",
       "      <td>19</td>\n",
       "      <td>...</td>\n",
       "      <td>1.0</td>\n",
       "      <td>0.0</td>\n",
       "      <td>1.0</td>\n",
       "      <td>0.0</td>\n",
       "      <td>0.0</td>\n",
       "      <td>0.0</td>\n",
       "      <td>0.0</td>\n",
       "      <td>0.0</td>\n",
       "      <td>0.0</td>\n",
       "      <td></td>\n",
       "    </tr>\n",
       "    <tr>\n",
       "      <th>3</th>\n",
       "      <td>b</td>\n",
       "      <td>1</td>\n",
       "      <td>3</td>\n",
       "      <td>4</td>\n",
       "      <td>6</td>\n",
       "      <td>0</td>\n",
       "      <td>1</td>\n",
       "      <td>0</td>\n",
       "      <td>1</td>\n",
       "      <td>313</td>\n",
       "      <td>...</td>\n",
       "      <td>1.0</td>\n",
       "      <td>0.0</td>\n",
       "      <td>1.0</td>\n",
       "      <td>0.0</td>\n",
       "      <td>0.0</td>\n",
       "      <td>0.0</td>\n",
       "      <td>0.0</td>\n",
       "      <td>0.0</td>\n",
       "      <td>0.0</td>\n",
       "      <td></td>\n",
       "    </tr>\n",
       "    <tr>\n",
       "      <th>4</th>\n",
       "      <td>b</td>\n",
       "      <td>1</td>\n",
       "      <td>3</td>\n",
       "      <td>3</td>\n",
       "      <td>22</td>\n",
       "      <td>0</td>\n",
       "      <td>0</td>\n",
       "      <td>0</td>\n",
       "      <td>0</td>\n",
       "      <td>313</td>\n",
       "      <td>...</td>\n",
       "      <td>1.0</td>\n",
       "      <td>1.0</td>\n",
       "      <td>0.0</td>\n",
       "      <td>0.0</td>\n",
       "      <td>0.0</td>\n",
       "      <td>0.0</td>\n",
       "      <td>0.0</td>\n",
       "      <td>1.0</td>\n",
       "      <td>0.0</td>\n",
       "      <td>Nonprofit</td>\n",
       "    </tr>\n",
       "  </tbody>\n",
       "</table>\n",
       "<p>5 rows × 65 columns</p>\n",
       "</div>"
      ],
      "text/plain": [
       "  id ad  education  ofjobs  yearsexp  honors  volunteer  military  empholes  \\\n",
       "0  b  1          4       2         6       0          0         0         1   \n",
       "1  b  1          3       3         6       0          1         1         0   \n",
       "2  b  1          4       1         6       0          0         0         0   \n",
       "3  b  1          3       4         6       0          1         0         1   \n",
       "4  b  1          3       3        22       0          0         0         0   \n",
       "\n",
       "   occupspecific    ...      compreq  orgreq  manuf  transcom  bankreal trade  \\\n",
       "0             17    ...          1.0     0.0    1.0       0.0       0.0   0.0   \n",
       "1            316    ...          1.0     0.0    1.0       0.0       0.0   0.0   \n",
       "2             19    ...          1.0     0.0    1.0       0.0       0.0   0.0   \n",
       "3            313    ...          1.0     0.0    1.0       0.0       0.0   0.0   \n",
       "4            313    ...          1.0     1.0    0.0       0.0       0.0   0.0   \n",
       "\n",
       "  busservice othservice  missind  ownership  \n",
       "0        0.0        0.0      0.0             \n",
       "1        0.0        0.0      0.0             \n",
       "2        0.0        0.0      0.0             \n",
       "3        0.0        0.0      0.0             \n",
       "4        0.0        1.0      0.0  Nonprofit  \n",
       "\n",
       "[5 rows x 65 columns]"
      ]
     },
     "execution_count": 42,
     "metadata": {},
     "output_type": "execute_result"
    }
   ],
   "source": [
    "data.head()"
   ]
  },
  {
   "cell_type": "code",
   "execution_count": 55,
   "metadata": {
    "collapsed": false,
    "scrolled": false
   },
   "outputs": [],
   "source": [
    "titles = list(data.columns.values)\n"
   ]
  },
  {
   "cell_type": "code",
   "execution_count": 46,
   "metadata": {
    "collapsed": false
   },
   "outputs": [
    {
     "name": "stdout",
     "output_type": "stream",
     "text": [
      "('education', 0.24047517576654476, 0.80997203176721733)\n",
      "('ofjobs', 0.17629292771974545, 0.86007115112888888)\n",
      "('yearsexp', 0.18461970685747395, 0.85353501824812827)\n",
      "('honors', 0.44856358183187639, 0.65376647488431394)\n",
      "('volunteer', -0.40759024305759978, 0.68359245176859607)\n",
      "('military', -1.1128831243101491, 0.26581357972093489)\n",
      "('empholes', 0.28809583635970071, 0.7732856444597449)\n",
      "('occupspecific', -0.52157539040120759, 0.60198972963193875)\n",
      "('occupbroad', -0.21794295813518974, 0.82748269062094948)\n",
      "('workinschool', -0.20201250014774666, 0.83991539316968733)\n",
      "('email', -0.057356200828648833, 0.95426380623027018)\n",
      "('computerskills', -2.1664271042751966, 0.030326933955391936)\n",
      "('specialskills', 0.21348739187623014, 0.83095576251836034)\n",
      "('h', 0.0, 1.0)\n",
      "('l', 0.0, 1.0)\n",
      "('call', 4.1147052908617514, 3.9408021031288859e-05)\n",
      "('adid', 0.0, 1.0)\n",
      "('fracblack', nan, nan)\n",
      "('fracwhite', nan, nan)\n",
      "('lmedhhinc', nan, nan)\n",
      "('fracdropout', nan, nan)\n",
      "('fraccolp', nan, nan)\n",
      "('linc', nan, nan)\n",
      "('col', -0.51027195556331129, 0.60988408279319062)\n",
      "('eoe', 0.0, 1.0)\n",
      "('parent_sales', nan, nan)\n",
      "('parent_emp', nan, nan)\n",
      "('branch_sales', nan, nan)\n",
      "('branch_emp', nan, nan)\n",
      "('fed', nan, nan)\n",
      "('fracblack_empzip', nan, nan)\n",
      "('fracwhite_empzip', nan, nan)\n",
      "('lmedhhinc_empzip', nan, nan)\n",
      "('fracdropout_empzip', nan, nan)\n",
      "('fraccolp_empzip', nan, nan)\n",
      "('linc_empzip', nan, nan)\n",
      "('manager', 0.039887986767407735, 0.96818406435934834)\n",
      "('supervisor', 0.0, 1.0)\n",
      "('secretary', -0.030402355887994132, 0.97574741230878281)\n",
      "('offsupport', 0.0, 1.0)\n",
      "('salesrep', 0.0, 1.0)\n",
      "('retailsales', 0.0, 1.0)\n",
      "('req', 0.0, 1.0)\n",
      "('expreq', 0.0, 1.0)\n",
      "('comreq', 0.0, 1.0)\n",
      "('educreq', 0.0, 1.0)\n",
      "('compreq', -0.028882265780132366, 0.97695967352145618)\n",
      "('orgreq', 0.0, 1.0)\n",
      "('manuf', 0.0, 1.0)\n",
      "('transcom', 0.0, 1.0)\n",
      "('bankreal', 0.0, 1.0)\n",
      "('trade', 0.0, 1.0)\n",
      "('busservice', 0.0, 1.0)\n",
      "('othservice', 0.0, 1.0)\n",
      "('missind', 0.0, 1.0)\n"
     ]
    }
   ],
   "source": [
    "for i in titles:\n",
    "    try:\n",
    "        t_stat2, pval2 = stats.ttest_ind(dfw[i], dfb[i])\n",
    "        print (i,t_stat2, pval2)\n",
    "        \n",
    "    except:\n",
    "        pass"
   ]
  },
  {
   "cell_type": "code",
   "execution_count": 50,
   "metadata": {
    "collapsed": false
   },
   "outputs": [
    {
     "name": "stdout",
     "output_type": "stream",
     "text": [
      "('computerskills', -2.1664271042751966, 0.030326933955391936)\n",
      "('call', 4.1147052908617514, 3.9408021031288859e-05)\n"
     ]
    }
   ],
   "source": [
    "for i in titles:\n",
    "    try:\n",
    "        t_stat2, pval2 = stats.ttest_ind(dfw[i], dfb[i])\n",
    "        if pval2 < 0.05:\n",
    "            print (i,t_stat2, pval2)\n",
    "        \n",
    "    except:\n",
    "        pass\n"
   ]
  },
  {
   "cell_type": "code",
   "execution_count": 54,
   "metadata": {
    "collapsed": false
   },
   "outputs": [
    {
     "name": "stdout",
     "output_type": "stream",
     "text": [
      "black names - 0.832443531828\n",
      "white names - 0.808624229979\n"
     ]
    }
   ],
   "source": [
    "print \"black names -\", dfb['computerskills'].mean()\n",
    "print \"white names -\", dfw['computerskills'].mean()"
   ]
  },
  {
   "cell_type": "markdown",
   "metadata": {
    "collapsed": false
   },
   "source": [
    "### Answer - Question 4\n",
    "From question 3 we have:\n",
    "Margin of error is 0.76%, \n",
    "Confidence Interval is (7.2%, 8.8%), \n",
    "pvalue is 3.94e-05\n",
    "\n",
    "#### P-value suggests that we cannot accept the Null hypothesis. \n",
    "\n",
    "The callback rate for white-sounding names is 9.65%, where as for black-sounding names, the rate is 6.45%.\n",
    "Looking to our confidence interval, that would entail that callback rates for white names are abnormally high, and call back rates for black names are abnormally low. \n",
    "\n",
    "##### Maybe people with black names are less qualified?\n",
    "Conducting students T-test on all necessary columns(variables), only one qualification had statistical significance.\n",
    "Computer skills had a p-value less than 0.05, 0.03 to be concise.\n",
    "\n",
    "##### Is it possible that people with black sounding names have less/worse computer skill and that accounts for the abnormally low callback rates?\n",
    "Interestingly, a significantly higher percentage of people with black-sounding names have computer skills compared to that of people with white-sounding names, 83.2% and 80.1% respectively. \n",
    "\n",
    "#### This leads us to conclude and accept the alternate hypothesis. \n",
    "There is discrimination in the labour market of the U.S.A based on whether a name is black-sounding or white-sounding. Ie. The callback rates are the different.\n",
    "\n",
    "\n"
   ]
  }
 ],
 "metadata": {
  "kernelspec": {
   "display_name": "Python 2",
   "language": "python",
   "name": "python2"
  },
  "language_info": {
   "codemirror_mode": {
    "name": "ipython",
    "version": 2
   },
   "file_extension": ".py",
   "mimetype": "text/x-python",
   "name": "python",
   "nbconvert_exporter": "python",
   "pygments_lexer": "ipython2",
   "version": "2.7.11"
  }
 },
 "nbformat": 4,
 "nbformat_minor": 0
}
