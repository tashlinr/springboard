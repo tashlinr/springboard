{
 "cells": [
  {
   "cell_type": "markdown",
   "metadata": {},
   "source": [
    "### Capstone Data Story - Grocery Store Chain \n",
    "\n",
    "Author: Tashlin Reddy\n",
    "\n",
    "Workshop: Datascience Intensive - Springboard"
   ]
  },
  {
   "cell_type": "markdown",
   "metadata": {},
   "source": [
    "1. Pick a dataset - ideally the dataset for your Capstone. If for some reason you want to do this on a different data set, you can find one on Mode Analytics or Google's public data sets directory, or pick another one you like from elsewhere.\n",
    "\n",
    "2. Get going by asking the following questions and looking for the answers with some code and plots:\n",
    "    Can you count something interesting?\n",
    "    Can you find some trends (high, low, increase, decrease, anomalies)?\n",
    "    Can you make a bar plot or a histogram?\n",
    "    Can you compare two related quantities?\n",
    "    Can you make a scatterplot?\n",
    "    Can you make a time-series plot?\n",
    "\n",
    "3. Having made these plots, what are some insights you get from them? Do you see any correlations? Is there a hypothesis you would like to investigate further? What other questions do they lead you to ask?\n",
    "\n",
    "4. By now you’ve asked a bunch of questions, and found some neat insights. Is there an interesting narrative, a way of presenting the insights using text and plots from the above, that tells a compelling story? As you work out this story, what are some other trends/relationships you think will make it more complete?"
   ]
  },
  {
   "cell_type": "markdown",
   "metadata": {},
   "source": [
    "##### Data is collected from COOP Italia, operators of the largerst supermarket chain in Italy."
   ]
  },
  {
   "cell_type": "code",
   "execution_count": 1,
   "metadata": {
    "collapsed": true
   },
   "outputs": [],
   "source": [
    "%matplotlib inline\n",
    "\n",
    "import pandas as pd\n",
    "import matplotlib\n",
    "import matplotlib.pyplot as plt\n",
    "import numpy as np\n"
   ]
  },
  {
   "cell_type": "code",
   "execution_count": 2,
   "metadata": {
    "collapsed": false
   },
   "outputs": [
    {
     "data": {
      "text/html": [
       "<style>body {\n",
       "    margin: 0;\n",
       "    font-family: Helvetica;\n",
       "}\n",
       "table.dataframe {\n",
       "    border-collapse: collapse;\n",
       "    border: none;\n",
       "}\n",
       "table.dataframe tr {\n",
       "    border: none;\n",
       "}\n",
       "table.dataframe td, table.dataframe th {\n",
       "    margin: 0;\n",
       "    border: 1px solid white;\n",
       "    padding-left: 0.25em;\n",
       "    padding-right: 0.25em;\n",
       "}\n",
       "table.dataframe th:not(:empty) {\n",
       "    background-color: #fec;\n",
       "    text-align: left;\n",
       "    font-weight: normal;\n",
       "}\n",
       "table.dataframe tr:nth-child(2) th:empty {\n",
       "    border-left: none;\n",
       "    border-right: 1px dashed #888;\n",
       "}\n",
       "table.dataframe td {\n",
       "    border: 2px solid #ccf;\n",
       "    background-color: #f4f4ff;\n",
       "}\n",
       "h3 {\n",
       "    color: white;\n",
       "    background-color: black;\n",
       "    padding: 0.5em;\n",
       "}\n",
       "</style>"
      ],
      "text/plain": [
       "<IPython.core.display.HTML object>"
      ]
     },
     "execution_count": 2,
     "metadata": {},
     "output_type": "execute_result"
    }
   ],
   "source": [
    "from IPython.core.display import HTML\n",
    "css = open('style-table.css').read() + open('style-notebook.css').read()\n",
    "HTML('<style>{}</style>'.format(css))"
   ]
  },
  {
   "cell_type": "code",
   "execution_count": 3,
   "metadata": {
    "collapsed": false,
    "scrolled": true
   },
   "outputs": [
    {
     "data": {
      "text/html": [
       "<div>\n",
       "<table border=\"1\" class=\"dataframe\">\n",
       "  <thead>\n",
       "    <tr style=\"text-align: right;\">\n",
       "      <th></th>\n",
       "      <th>customer_id</th>\n",
       "      <th>avg_distance_to_shops</th>\n",
       "      <th>min_distance_to_shops</th>\n",
       "      <th>max_distance_to_shops</th>\n",
       "      <th>products_purchased</th>\n",
       "      <th>unique_products_purchased</th>\n",
       "      <th>amount_purchased</th>\n",
       "      <th>avg_purchase</th>\n",
       "      <th>avg_price</th>\n",
       "      <th>shops_used</th>\n",
       "      <th>...</th>\n",
       "      <th>avg_purchase_shop_1</th>\n",
       "      <th>avg_purchase_shop_2</th>\n",
       "      <th>avg_purchase_shop_3</th>\n",
       "      <th>avg_purchase_shop_4</th>\n",
       "      <th>avg_purchase_shop_5</th>\n",
       "      <th>avg_price_shop_1</th>\n",
       "      <th>avg_price_shop_2</th>\n",
       "      <th>avg_price_shop_3</th>\n",
       "      <th>avg_price_shop_4</th>\n",
       "      <th>avg_price_shop_5</th>\n",
       "    </tr>\n",
       "  </thead>\n",
       "  <tbody>\n",
       "    <tr>\n",
       "      <th>0</th>\n",
       "      <td>1</td>\n",
       "      <td>1434.91910</td>\n",
       "      <td>985.87620</td>\n",
       "      <td>4082.5222</td>\n",
       "      <td>3090.0</td>\n",
       "      <td>473.0</td>\n",
       "      <td>7551.701</td>\n",
       "      <td>14.221659</td>\n",
       "      <td>3.150493</td>\n",
       "      <td>2.0</td>\n",
       "      <td>...</td>\n",
       "      <td>10.441143</td>\n",
       "      <td>14.862848</td>\n",
       "      <td>0.000000</td>\n",
       "      <td>0.0</td>\n",
       "      <td>0.000000</td>\n",
       "      <td>6.393403</td>\n",
       "      <td>2.600485</td>\n",
       "      <td>0.000000</td>\n",
       "      <td>0.0</td>\n",
       "      <td>0.000000</td>\n",
       "    </tr>\n",
       "    <tr>\n",
       "      <th>1</th>\n",
       "      <td>2</td>\n",
       "      <td>909.76764</td>\n",
       "      <td>254.94832</td>\n",
       "      <td>2295.4840</td>\n",
       "      <td>4508.0</td>\n",
       "      <td>486.0</td>\n",
       "      <td>7820.219</td>\n",
       "      <td>11.235947</td>\n",
       "      <td>2.191422</td>\n",
       "      <td>4.0</td>\n",
       "      <td>...</td>\n",
       "      <td>3.761943</td>\n",
       "      <td>4.848720</td>\n",
       "      <td>2.546600</td>\n",
       "      <td>0.0</td>\n",
       "      <td>16.479185</td>\n",
       "      <td>2.851152</td>\n",
       "      <td>2.009863</td>\n",
       "      <td>2.059450</td>\n",
       "      <td>0.0</td>\n",
       "      <td>2.103394</td>\n",
       "    </tr>\n",
       "    <tr>\n",
       "      <th>2</th>\n",
       "      <td>3</td>\n",
       "      <td>1498.94700</td>\n",
       "      <td>754.29560</td>\n",
       "      <td>2831.7727</td>\n",
       "      <td>814.0</td>\n",
       "      <td>234.0</td>\n",
       "      <td>1788.613</td>\n",
       "      <td>5.453088</td>\n",
       "      <td>2.258994</td>\n",
       "      <td>4.0</td>\n",
       "      <td>...</td>\n",
       "      <td>3.757062</td>\n",
       "      <td>5.605183</td>\n",
       "      <td>1.923385</td>\n",
       "      <td>0.0</td>\n",
       "      <td>5.924268</td>\n",
       "      <td>3.426687</td>\n",
       "      <td>2.478529</td>\n",
       "      <td>1.923385</td>\n",
       "      <td>0.0</td>\n",
       "      <td>1.947067</td>\n",
       "    </tr>\n",
       "    <tr>\n",
       "      <th>3</th>\n",
       "      <td>4</td>\n",
       "      <td>561.65900</td>\n",
       "      <td>362.79178</td>\n",
       "      <td>2210.3820</td>\n",
       "      <td>648.0</td>\n",
       "      <td>208.0</td>\n",
       "      <td>1679.520</td>\n",
       "      <td>5.976940</td>\n",
       "      <td>2.614292</td>\n",
       "      <td>4.0</td>\n",
       "      <td>...</td>\n",
       "      <td>4.997400</td>\n",
       "      <td>2.688400</td>\n",
       "      <td>5.029184</td>\n",
       "      <td>0.0</td>\n",
       "      <td>7.156351</td>\n",
       "      <td>4.997400</td>\n",
       "      <td>2.688400</td>\n",
       "      <td>2.083168</td>\n",
       "      <td>0.0</td>\n",
       "      <td>2.754427</td>\n",
       "    </tr>\n",
       "    <tr>\n",
       "      <th>4</th>\n",
       "      <td>5</td>\n",
       "      <td>605.36280</td>\n",
       "      <td>275.46753</td>\n",
       "      <td>1375.1184</td>\n",
       "      <td>13.0</td>\n",
       "      <td>10.0</td>\n",
       "      <td>17.922</td>\n",
       "      <td>1.792200</td>\n",
       "      <td>1.692000</td>\n",
       "      <td>2.0</td>\n",
       "      <td>...</td>\n",
       "      <td>0.000000</td>\n",
       "      <td>0.967667</td>\n",
       "      <td>2.145571</td>\n",
       "      <td>0.0</td>\n",
       "      <td>0.000000</td>\n",
       "      <td>0.000000</td>\n",
       "      <td>0.633667</td>\n",
       "      <td>2.145571</td>\n",
       "      <td>0.0</td>\n",
       "      <td>0.000000</td>\n",
       "    </tr>\n",
       "  </tbody>\n",
       "</table>\n",
       "<p>5 rows × 40 columns</p>\n",
       "</div>"
      ],
      "text/plain": [
       "   customer_id  avg_distance_to_shops  min_distance_to_shops  \\\n",
       "0            1             1434.91910              985.87620   \n",
       "1            2              909.76764              254.94832   \n",
       "2            3             1498.94700              754.29560   \n",
       "3            4              561.65900              362.79178   \n",
       "4            5              605.36280              275.46753   \n",
       "\n",
       "   max_distance_to_shops  products_purchased  unique_products_purchased  \\\n",
       "0              4082.5222              3090.0                      473.0   \n",
       "1              2295.4840              4508.0                      486.0   \n",
       "2              2831.7727               814.0                      234.0   \n",
       "3              2210.3820               648.0                      208.0   \n",
       "4              1375.1184                13.0                       10.0   \n",
       "\n",
       "   amount_purchased  avg_purchase  avg_price  shops_used        ...         \\\n",
       "0          7551.701     14.221659   3.150493         2.0        ...          \n",
       "1          7820.219     11.235947   2.191422         4.0        ...          \n",
       "2          1788.613      5.453088   2.258994         4.0        ...          \n",
       "3          1679.520      5.976940   2.614292         4.0        ...          \n",
       "4            17.922      1.792200   1.692000         2.0        ...          \n",
       "\n",
       "   avg_purchase_shop_1  avg_purchase_shop_2  avg_purchase_shop_3  \\\n",
       "0            10.441143            14.862848             0.000000   \n",
       "1             3.761943             4.848720             2.546600   \n",
       "2             3.757062             5.605183             1.923385   \n",
       "3             4.997400             2.688400             5.029184   \n",
       "4             0.000000             0.967667             2.145571   \n",
       "\n",
       "   avg_purchase_shop_4  avg_purchase_shop_5  avg_price_shop_1  \\\n",
       "0                  0.0             0.000000          6.393403   \n",
       "1                  0.0            16.479185          2.851152   \n",
       "2                  0.0             5.924268          3.426687   \n",
       "3                  0.0             7.156351          4.997400   \n",
       "4                  0.0             0.000000          0.000000   \n",
       "\n",
       "   avg_price_shop_2  avg_price_shop_3  avg_price_shop_4  avg_price_shop_5  \n",
       "0          2.600485          0.000000               0.0          0.000000  \n",
       "1          2.009863          2.059450               0.0          2.103394  \n",
       "2          2.478529          1.923385               0.0          1.947067  \n",
       "3          2.688400          2.083168               0.0          2.754427  \n",
       "4          0.633667          2.145571               0.0          0.000000  \n",
       "\n",
       "[5 rows x 40 columns]"
      ]
     },
     "execution_count": 3,
     "metadata": {},
     "output_type": "execute_result"
    }
   ],
   "source": [
    "df = pd.DataFrame.from_csv('data/spcapstone.csv', index_col=None)\n",
    "df.head()"
   ]
  },
  {
   "cell_type": "markdown",
   "metadata": {},
   "source": [
    "## 1. Can something interesting be counted?"
   ]
  },
  {
   "cell_type": "code",
   "execution_count": 4,
   "metadata": {
    "collapsed": false
   },
   "outputs": [
    {
     "data": {
      "text/html": [
       "<div>\n",
       "<table border=\"1\" class=\"dataframe\">\n",
       "  <thead>\n",
       "    <tr style=\"text-align: right;\">\n",
       "      <th></th>\n",
       "      <th>customer_id</th>\n",
       "      <th>avg_distance_to_shops</th>\n",
       "      <th>min_distance_to_shops</th>\n",
       "      <th>max_distance_to_shops</th>\n",
       "      <th>products_purchased</th>\n",
       "      <th>unique_products_purchased</th>\n",
       "      <th>amount_purchased</th>\n",
       "      <th>avg_purchase</th>\n",
       "      <th>avg_price</th>\n",
       "      <th>shops_used</th>\n",
       "      <th>...</th>\n",
       "      <th>avg_purchase_shop_1</th>\n",
       "      <th>avg_purchase_shop_2</th>\n",
       "      <th>avg_purchase_shop_3</th>\n",
       "      <th>avg_purchase_shop_4</th>\n",
       "      <th>avg_purchase_shop_5</th>\n",
       "      <th>avg_price_shop_1</th>\n",
       "      <th>avg_price_shop_2</th>\n",
       "      <th>avg_price_shop_3</th>\n",
       "      <th>avg_price_shop_4</th>\n",
       "      <th>avg_price_shop_5</th>\n",
       "    </tr>\n",
       "  </thead>\n",
       "  <tbody>\n",
       "    <tr>\n",
       "      <th>count</th>\n",
       "      <td>60366.000000</td>\n",
       "      <td>60365.000000</td>\n",
       "      <td>60365.000000</td>\n",
       "      <td>60365.000000</td>\n",
       "      <td>60365.000000</td>\n",
       "      <td>60365.000000</td>\n",
       "      <td>60365.000000</td>\n",
       "      <td>60365.000000</td>\n",
       "      <td>60365.000000</td>\n",
       "      <td>60365.000000</td>\n",
       "      <td>...</td>\n",
       "      <td>60366.000000</td>\n",
       "      <td>60366.000000</td>\n",
       "      <td>60366.000000</td>\n",
       "      <td>60366.000000</td>\n",
       "      <td>60366.000000</td>\n",
       "      <td>60366.000000</td>\n",
       "      <td>60366.000000</td>\n",
       "      <td>60366.000000</td>\n",
       "      <td>60366.000000</td>\n",
       "      <td>60366.000000</td>\n",
       "    </tr>\n",
       "    <tr>\n",
       "      <th>mean</th>\n",
       "      <td>30183.500000</td>\n",
       "      <td>2030.227290</td>\n",
       "      <td>1396.438077</td>\n",
       "      <td>2942.667579</td>\n",
       "      <td>1778.712383</td>\n",
       "      <td>330.668185</td>\n",
       "      <td>4235.493251</td>\n",
       "      <td>8.532106</td>\n",
       "      <td>3.666521</td>\n",
       "      <td>2.380055</td>\n",
       "      <td>...</td>\n",
       "      <td>8.099084</td>\n",
       "      <td>4.974362</td>\n",
       "      <td>1.520414</td>\n",
       "      <td>0.757002</td>\n",
       "      <td>0.808136</td>\n",
       "      <td>4.681516</td>\n",
       "      <td>2.297958</td>\n",
       "      <td>0.760319</td>\n",
       "      <td>0.444549</td>\n",
       "      <td>0.453596</td>\n",
       "    </tr>\n",
       "    <tr>\n",
       "      <th>std</th>\n",
       "      <td>17426.307512</td>\n",
       "      <td>1119.909710</td>\n",
       "      <td>1048.415728</td>\n",
       "      <td>1327.528871</td>\n",
       "      <td>2185.051073</td>\n",
       "      <td>236.004343</td>\n",
       "      <td>5006.777082</td>\n",
       "      <td>10.315527</td>\n",
       "      <td>9.133248</td>\n",
       "      <td>1.012191</td>\n",
       "      <td>...</td>\n",
       "      <td>16.535203</td>\n",
       "      <td>11.230346</td>\n",
       "      <td>3.687745</td>\n",
       "      <td>4.902861</td>\n",
       "      <td>2.603233</td>\n",
       "      <td>15.956085</td>\n",
       "      <td>9.966453</td>\n",
       "      <td>1.897947</td>\n",
       "      <td>4.385982</td>\n",
       "      <td>1.325875</td>\n",
       "    </tr>\n",
       "    <tr>\n",
       "      <th>min</th>\n",
       "      <td>1.000000</td>\n",
       "      <td>6.642472</td>\n",
       "      <td>6.642472</td>\n",
       "      <td>6.642472</td>\n",
       "      <td>1.000000</td>\n",
       "      <td>1.000000</td>\n",
       "      <td>0.212000</td>\n",
       "      <td>0.212000</td>\n",
       "      <td>0.212000</td>\n",
       "      <td>1.000000</td>\n",
       "      <td>...</td>\n",
       "      <td>0.000000</td>\n",
       "      <td>0.000000</td>\n",
       "      <td>0.000000</td>\n",
       "      <td>0.000000</td>\n",
       "      <td>0.000000</td>\n",
       "      <td>0.000000</td>\n",
       "      <td>0.000000</td>\n",
       "      <td>0.000000</td>\n",
       "      <td>0.000000</td>\n",
       "      <td>0.000000</td>\n",
       "    </tr>\n",
       "    <tr>\n",
       "      <th>25%</th>\n",
       "      <td>15092.250000</td>\n",
       "      <td>1250.239000</td>\n",
       "      <td>573.610700</td>\n",
       "      <td>2117.183000</td>\n",
       "      <td>227.000000</td>\n",
       "      <td>127.000000</td>\n",
       "      <td>653.107000</td>\n",
       "      <td>4.532897</td>\n",
       "      <td>2.533746</td>\n",
       "      <td>2.000000</td>\n",
       "      <td>...</td>\n",
       "      <td>3.852688</td>\n",
       "      <td>0.000000</td>\n",
       "      <td>0.000000</td>\n",
       "      <td>0.000000</td>\n",
       "      <td>0.000000</td>\n",
       "      <td>2.647570</td>\n",
       "      <td>0.000000</td>\n",
       "      <td>0.000000</td>\n",
       "      <td>0.000000</td>\n",
       "      <td>0.000000</td>\n",
       "    </tr>\n",
       "    <tr>\n",
       "      <th>50%</th>\n",
       "      <td>30183.500000</td>\n",
       "      <td>1936.880200</td>\n",
       "      <td>1184.943000</td>\n",
       "      <td>2869.195300</td>\n",
       "      <td>925.000000</td>\n",
       "      <td>304.000000</td>\n",
       "      <td>2355.138000</td>\n",
       "      <td>6.862780</td>\n",
       "      <td>2.944260</td>\n",
       "      <td>2.000000</td>\n",
       "      <td>...</td>\n",
       "      <td>6.048320</td>\n",
       "      <td>3.209491</td>\n",
       "      <td>0.000000</td>\n",
       "      <td>0.000000</td>\n",
       "      <td>0.000000</td>\n",
       "      <td>3.251844</td>\n",
       "      <td>2.296758</td>\n",
       "      <td>0.000000</td>\n",
       "      <td>0.000000</td>\n",
       "      <td>0.000000</td>\n",
       "    </tr>\n",
       "    <tr>\n",
       "      <th>75%</th>\n",
       "      <td>45274.750000</td>\n",
       "      <td>2569.706800</td>\n",
       "      <td>1962.384500</td>\n",
       "      <td>3580.669700</td>\n",
       "      <td>2552.000000</td>\n",
       "      <td>500.000000</td>\n",
       "      <td>6054.631000</td>\n",
       "      <td>10.429567</td>\n",
       "      <td>3.558136</td>\n",
       "      <td>3.000000</td>\n",
       "      <td>...</td>\n",
       "      <td>9.407107</td>\n",
       "      <td>5.978663</td>\n",
       "      <td>2.107243</td>\n",
       "      <td>0.000000</td>\n",
       "      <td>0.000000</td>\n",
       "      <td>4.166946</td>\n",
       "      <td>2.717513</td>\n",
       "      <td>1.840338</td>\n",
       "      <td>0.000000</td>\n",
       "      <td>0.000000</td>\n",
       "    </tr>\n",
       "    <tr>\n",
       "      <th>max</th>\n",
       "      <td>60366.000000</td>\n",
       "      <td>9004.164000</td>\n",
       "      <td>9004.164000</td>\n",
       "      <td>9267.698000</td>\n",
       "      <td>22131.000000</td>\n",
       "      <td>1465.000000</td>\n",
       "      <td>51588.656000</td>\n",
       "      <td>787.569000</td>\n",
       "      <td>787.569000</td>\n",
       "      <td>5.000000</td>\n",
       "      <td>...</td>\n",
       "      <td>787.569000</td>\n",
       "      <td>787.569000</td>\n",
       "      <td>263.234000</td>\n",
       "      <td>522.607000</td>\n",
       "      <td>133.967250</td>\n",
       "      <td>787.569000</td>\n",
       "      <td>787.569000</td>\n",
       "      <td>263.234000</td>\n",
       "      <td>522.607000</td>\n",
       "      <td>133.967250</td>\n",
       "    </tr>\n",
       "  </tbody>\n",
       "</table>\n",
       "<p>8 rows × 40 columns</p>\n",
       "</div>"
      ],
      "text/plain": [
       "        customer_id  avg_distance_to_shops  min_distance_to_shops  \\\n",
       "count  60366.000000           60365.000000           60365.000000   \n",
       "mean   30183.500000            2030.227290            1396.438077   \n",
       "std    17426.307512            1119.909710            1048.415728   \n",
       "min        1.000000               6.642472               6.642472   \n",
       "25%    15092.250000            1250.239000             573.610700   \n",
       "50%    30183.500000            1936.880200            1184.943000   \n",
       "75%    45274.750000            2569.706800            1962.384500   \n",
       "max    60366.000000            9004.164000            9004.164000   \n",
       "\n",
       "       max_distance_to_shops  products_purchased  unique_products_purchased  \\\n",
       "count           60365.000000        60365.000000               60365.000000   \n",
       "mean             2942.667579         1778.712383                 330.668185   \n",
       "std              1327.528871         2185.051073                 236.004343   \n",
       "min                 6.642472            1.000000                   1.000000   \n",
       "25%              2117.183000          227.000000                 127.000000   \n",
       "50%              2869.195300          925.000000                 304.000000   \n",
       "75%              3580.669700         2552.000000                 500.000000   \n",
       "max              9267.698000        22131.000000                1465.000000   \n",
       "\n",
       "       amount_purchased  avg_purchase     avg_price    shops_used  \\\n",
       "count      60365.000000  60365.000000  60365.000000  60365.000000   \n",
       "mean        4235.493251      8.532106      3.666521      2.380055   \n",
       "std         5006.777082     10.315527      9.133248      1.012191   \n",
       "min            0.212000      0.212000      0.212000      1.000000   \n",
       "25%          653.107000      4.532897      2.533746      2.000000   \n",
       "50%         2355.138000      6.862780      2.944260      2.000000   \n",
       "75%         6054.631000     10.429567      3.558136      3.000000   \n",
       "max        51588.656000    787.569000    787.569000      5.000000   \n",
       "\n",
       "             ...         avg_purchase_shop_1  avg_purchase_shop_2  \\\n",
       "count        ...                60366.000000         60366.000000   \n",
       "mean         ...                    8.099084             4.974362   \n",
       "std          ...                   16.535203            11.230346   \n",
       "min          ...                    0.000000             0.000000   \n",
       "25%          ...                    3.852688             0.000000   \n",
       "50%          ...                    6.048320             3.209491   \n",
       "75%          ...                    9.407107             5.978663   \n",
       "max          ...                  787.569000           787.569000   \n",
       "\n",
       "       avg_purchase_shop_3  avg_purchase_shop_4  avg_purchase_shop_5  \\\n",
       "count         60366.000000         60366.000000         60366.000000   \n",
       "mean              1.520414             0.757002             0.808136   \n",
       "std               3.687745             4.902861             2.603233   \n",
       "min               0.000000             0.000000             0.000000   \n",
       "25%               0.000000             0.000000             0.000000   \n",
       "50%               0.000000             0.000000             0.000000   \n",
       "75%               2.107243             0.000000             0.000000   \n",
       "max             263.234000           522.607000           133.967250   \n",
       "\n",
       "       avg_price_shop_1  avg_price_shop_2  avg_price_shop_3  avg_price_shop_4  \\\n",
       "count      60366.000000      60366.000000      60366.000000      60366.000000   \n",
       "mean           4.681516          2.297958          0.760319          0.444549   \n",
       "std           15.956085          9.966453          1.897947          4.385982   \n",
       "min            0.000000          0.000000          0.000000          0.000000   \n",
       "25%            2.647570          0.000000          0.000000          0.000000   \n",
       "50%            3.251844          2.296758          0.000000          0.000000   \n",
       "75%            4.166946          2.717513          1.840338          0.000000   \n",
       "max          787.569000        787.569000        263.234000        522.607000   \n",
       "\n",
       "       avg_price_shop_5  \n",
       "count      60366.000000  \n",
       "mean           0.453596  \n",
       "std            1.325875  \n",
       "min            0.000000  \n",
       "25%            0.000000  \n",
       "50%            0.000000  \n",
       "75%            0.000000  \n",
       "max          133.967250  \n",
       "\n",
       "[8 rows x 40 columns]"
      ]
     },
     "execution_count": 4,
     "metadata": {},
     "output_type": "execute_result"
    }
   ],
   "source": [
    "df.describe()"
   ]
  },
  {
   "cell_type": "code",
   "execution_count": 5,
   "metadata": {
    "collapsed": false,
    "scrolled": false
   },
   "outputs": [
    {
     "data": {
      "text/html": [
       "<div>\n",
       "<table border=\"1\" class=\"dataframe\">\n",
       "  <thead>\n",
       "    <tr style=\"text-align: right;\">\n",
       "      <th></th>\n",
       "      <th>average</th>\n",
       "    </tr>\n",
       "  </thead>\n",
       "  <tbody>\n",
       "    <tr>\n",
       "      <th>customer_id</th>\n",
       "      <td>30183.500000</td>\n",
       "    </tr>\n",
       "    <tr>\n",
       "      <th>avg_distance_to_shops</th>\n",
       "      <td>2030.227290</td>\n",
       "    </tr>\n",
       "    <tr>\n",
       "      <th>min_distance_to_shops</th>\n",
       "      <td>1396.438077</td>\n",
       "    </tr>\n",
       "    <tr>\n",
       "      <th>max_distance_to_shops</th>\n",
       "      <td>2942.667579</td>\n",
       "    </tr>\n",
       "    <tr>\n",
       "      <th>products_purchased</th>\n",
       "      <td>1778.712383</td>\n",
       "    </tr>\n",
       "    <tr>\n",
       "      <th>unique_products_purchased</th>\n",
       "      <td>330.668185</td>\n",
       "    </tr>\n",
       "    <tr>\n",
       "      <th>amount_purchased</th>\n",
       "      <td>4235.493251</td>\n",
       "    </tr>\n",
       "    <tr>\n",
       "      <th>avg_purchase</th>\n",
       "      <td>8.532106</td>\n",
       "    </tr>\n",
       "    <tr>\n",
       "      <th>avg_price</th>\n",
       "      <td>3.666521</td>\n",
       "    </tr>\n",
       "    <tr>\n",
       "      <th>shops_used</th>\n",
       "      <td>2.380055</td>\n",
       "    </tr>\n",
       "    <tr>\n",
       "      <th>distance_shop_1</th>\n",
       "      <td>2496.626895</td>\n",
       "    </tr>\n",
       "    <tr>\n",
       "      <th>distance_shop_2</th>\n",
       "      <td>2488.237704</td>\n",
       "    </tr>\n",
       "    <tr>\n",
       "      <th>distance_shop_3</th>\n",
       "      <td>1924.972194</td>\n",
       "    </tr>\n",
       "    <tr>\n",
       "      <th>distance_shop_4</th>\n",
       "      <td>2882.799434</td>\n",
       "    </tr>\n",
       "    <tr>\n",
       "      <th>distance_shop_5</th>\n",
       "      <td>2020.899184</td>\n",
       "    </tr>\n",
       "    <tr>\n",
       "      <th>products_purchased_shop_1</th>\n",
       "      <td>887.813339</td>\n",
       "    </tr>\n",
       "    <tr>\n",
       "      <th>products_purchased_shop_2</th>\n",
       "      <td>605.365139</td>\n",
       "    </tr>\n",
       "    <tr>\n",
       "      <th>products_purchased_shop_3</th>\n",
       "      <td>156.675264</td>\n",
       "    </tr>\n",
       "    <tr>\n",
       "      <th>products_purchased_shop_4</th>\n",
       "      <td>56.646804</td>\n",
       "    </tr>\n",
       "    <tr>\n",
       "      <th>products_purchased_shop_5</th>\n",
       "      <td>72.182371</td>\n",
       "    </tr>\n",
       "    <tr>\n",
       "      <th>unique_products_purchased_shop_1</th>\n",
       "      <td>222.299374</td>\n",
       "    </tr>\n",
       "    <tr>\n",
       "      <th>unique_products_purchased_shop_2</th>\n",
       "      <td>126.611354</td>\n",
       "    </tr>\n",
       "    <tr>\n",
       "      <th>unique_products_purchased_shop_3</th>\n",
       "      <td>31.908094</td>\n",
       "    </tr>\n",
       "    <tr>\n",
       "      <th>unique_products_purchased_shop_4</th>\n",
       "      <td>11.568631</td>\n",
       "    </tr>\n",
       "    <tr>\n",
       "      <th>unique_products_purchased_shop_5</th>\n",
       "      <td>15.768214</td>\n",
       "    </tr>\n",
       "    <tr>\n",
       "      <th>amount_purchased_shop_1</th>\n",
       "      <td>2310.428361</td>\n",
       "    </tr>\n",
       "    <tr>\n",
       "      <th>amount_purchased_shop_2</th>\n",
       "      <td>1373.292349</td>\n",
       "    </tr>\n",
       "    <tr>\n",
       "      <th>amount_purchased_shop_3</th>\n",
       "      <td>303.259309</td>\n",
       "    </tr>\n",
       "    <tr>\n",
       "      <th>amount_purchased_shop_4</th>\n",
       "      <td>110.312992</td>\n",
       "    </tr>\n",
       "    <tr>\n",
       "      <th>amount_purchased_shop_5</th>\n",
       "      <td>138.130078</td>\n",
       "    </tr>\n",
       "    <tr>\n",
       "      <th>avg_purchase_shop_1</th>\n",
       "      <td>8.099084</td>\n",
       "    </tr>\n",
       "    <tr>\n",
       "      <th>avg_purchase_shop_2</th>\n",
       "      <td>4.974362</td>\n",
       "    </tr>\n",
       "    <tr>\n",
       "      <th>avg_purchase_shop_3</th>\n",
       "      <td>1.520414</td>\n",
       "    </tr>\n",
       "    <tr>\n",
       "      <th>avg_purchase_shop_4</th>\n",
       "      <td>0.757002</td>\n",
       "    </tr>\n",
       "    <tr>\n",
       "      <th>avg_purchase_shop_5</th>\n",
       "      <td>0.808136</td>\n",
       "    </tr>\n",
       "    <tr>\n",
       "      <th>avg_price_shop_1</th>\n",
       "      <td>4.681516</td>\n",
       "    </tr>\n",
       "    <tr>\n",
       "      <th>avg_price_shop_2</th>\n",
       "      <td>2.297958</td>\n",
       "    </tr>\n",
       "    <tr>\n",
       "      <th>avg_price_shop_3</th>\n",
       "      <td>0.760319</td>\n",
       "    </tr>\n",
       "    <tr>\n",
       "      <th>avg_price_shop_4</th>\n",
       "      <td>0.444549</td>\n",
       "    </tr>\n",
       "    <tr>\n",
       "      <th>avg_price_shop_5</th>\n",
       "      <td>0.453596</td>\n",
       "    </tr>\n",
       "  </tbody>\n",
       "</table>\n",
       "</div>"
      ],
      "text/plain": [
       "                                       average\n",
       "customer_id                       30183.500000\n",
       "avg_distance_to_shops              2030.227290\n",
       "min_distance_to_shops              1396.438077\n",
       "max_distance_to_shops              2942.667579\n",
       "products_purchased                 1778.712383\n",
       "unique_products_purchased           330.668185\n",
       "amount_purchased                   4235.493251\n",
       "avg_purchase                          8.532106\n",
       "avg_price                             3.666521\n",
       "shops_used                            2.380055\n",
       "distance_shop_1                    2496.626895\n",
       "distance_shop_2                    2488.237704\n",
       "distance_shop_3                    1924.972194\n",
       "distance_shop_4                    2882.799434\n",
       "distance_shop_5                    2020.899184\n",
       "products_purchased_shop_1           887.813339\n",
       "products_purchased_shop_2           605.365139\n",
       "products_purchased_shop_3           156.675264\n",
       "products_purchased_shop_4            56.646804\n",
       "products_purchased_shop_5            72.182371\n",
       "unique_products_purchased_shop_1    222.299374\n",
       "unique_products_purchased_shop_2    126.611354\n",
       "unique_products_purchased_shop_3     31.908094\n",
       "unique_products_purchased_shop_4     11.568631\n",
       "unique_products_purchased_shop_5     15.768214\n",
       "amount_purchased_shop_1            2310.428361\n",
       "amount_purchased_shop_2            1373.292349\n",
       "amount_purchased_shop_3             303.259309\n",
       "amount_purchased_shop_4             110.312992\n",
       "amount_purchased_shop_5             138.130078\n",
       "avg_purchase_shop_1                   8.099084\n",
       "avg_purchase_shop_2                   4.974362\n",
       "avg_purchase_shop_3                   1.520414\n",
       "avg_purchase_shop_4                   0.757002\n",
       "avg_purchase_shop_5                   0.808136\n",
       "avg_price_shop_1                      4.681516\n",
       "avg_price_shop_2                      2.297958\n",
       "avg_price_shop_3                      0.760319\n",
       "avg_price_shop_4                      0.444549\n",
       "avg_price_shop_5                      0.453596"
      ]
     },
     "execution_count": 5,
     "metadata": {},
     "output_type": "execute_result"
    }
   ],
   "source": [
    "avg = pd.DataFrame(df.mean(),columns = ['average'])\n",
    "avg\n"
   ]
  },
  {
   "cell_type": "code",
   "execution_count": 6,
   "metadata": {
    "collapsed": false
   },
   "outputs": [
    {
     "name": "stdout",
     "output_type": "stream",
     "text": [
      "('average =', 2.3800546674397416, 'median=', 2.0)\n"
     ]
    }
   ],
   "source": [
    "avg = df['shops_used'].mean()\n",
    "med = df['shops_used'].median()\n",
    "print ('average =',avg,'median=',med)"
   ]
  },
  {
   "cell_type": "markdown",
   "metadata": {},
   "source": [
    "## The average customer does not use all 5 shops (mean = 2.38, median = 2). What might be the reasoning behind this? Which two shops? "
   ]
  },
  {
   "cell_type": "code",
   "execution_count": 7,
   "metadata": {
    "collapsed": false
   },
   "outputs": [],
   "source": [
    "pce1 = df[df['products_purchased_shop_1'] >0]\n",
    "pce2 = df[df['products_purchased_shop_2'] >0]\n",
    "pce3 = df[df['products_purchased_shop_3'] >0]\n",
    "pce4 = df[df['products_purchased_shop_4'] >0]\n",
    "pce5 = df[df['products_purchased_shop_5'] >0]\n",
    "shopu = (len(pce1),len(pce2),len(pce3),len(pce4),len(pce5))\n"
   ]
  },
  {
   "cell_type": "code",
   "execution_count": 8,
   "metadata": {
    "collapsed": false
   },
   "outputs": [
    {
     "data": {
      "text/plain": [
       "array([ 92.02531226,  74.20402213,  33.96448332,  17.22824106,  20.57946526])"
      ]
     },
     "execution_count": 8,
     "metadata": {},
     "output_type": "execute_result"
    }
   ],
   "source": [
    "shopu = np.array(shopu)\n",
    "shopu = (shopu/float(len(df)))*100\n",
    "shopu"
   ]
  },
  {
   "cell_type": "code",
   "execution_count": 9,
   "metadata": {
    "collapsed": false
   },
   "outputs": [
    {
     "data": {
      "image/png": "[encoded data removed]",
      "text/plain": [
       "<matplotlib.figure.Figure at 0x1141d9750>"
      ]
     },
     "metadata": {},
     "output_type": "display_data"
    }
   ],
   "source": [
    "\n",
    "shop_names=['shop1','shop2','shop3','shop4','shop5']\n",
    "shops =np.arange(1, 6, 1)\n",
    "\n",
    "barlist = plt.bar(shops,shopu)\n",
    "barlist[1].set_color('r')\n",
    "barlist[2].set_color('purple')\n",
    "barlist[3].set_color('g')\n",
    "barlist[4].set_color('y')\n",
    "plt.xticks(shops, shop_names)\n",
    "plt.ylabel('Percent of total customers using shop')\n",
    "plt.show()"
   ]
  },
  {
   "cell_type": "markdown",
   "metadata": {},
   "source": [
    "#### At first glance it seems most customers use shop 1 and 2, and a small subset purchase from shops 3,4, and 5.\n",
    "\n",
    "#### Let's try and find a possible reason for this trend"
   ]
  },
  {
   "cell_type": "code",
   "execution_count": 10,
   "metadata": {
    "collapsed": false
   },
   "outputs": [],
   "source": [
    "x1 = df.distance_shop_1\n",
    "y1 = df.amount_purchased_shop_1\n",
    "x2 = df.distance_shop_2\n",
    "y2 = df.amount_purchased_shop_2\n",
    "x3 = df.distance_shop_3\n",
    "y3 = df.amount_purchased_shop_3\n",
    "x4 = df.distance_shop_4\n",
    "y4 = df.amount_purchased_shop_4\n",
    "x5 = df.distance_shop_5\n",
    "y5 = df.amount_purchased_shop_5"
   ]
  },
  {
   "cell_type": "code",
   "execution_count": 11,
   "metadata": {
    "collapsed": false
   },
   "outputs": [
    {
     "data": {
      "text/plain": [
       "(<matplotlib.collections.PathCollection at 0x1149bbd50>,\n",
       " (0, 50000),\n",
       " (0, 10000),\n",
       " <matplotlib.text.Text at 0x114962a10>,\n",
       " None,\n",
       " None)"
      ]
     },
     "execution_count": 11,
     "metadata": {},
     "output_type": "execute_result"
    },
    {
     "data": {
      "image/png": "[encoded data removed]",
      "text/plain": [
       "<matplotlib.figure.Figure at 0x114a7a490>"
      ]
     },
     "metadata": {},
     "output_type": "display_data"
    }
   ],
   "source": [
    "fig, axes = plt.subplots(1, 5, figsize=(15,3))\n",
    "\n",
    "axes[0].scatter(x1,y1), axes[0].set_title(\"shop1\"), axes[0].set_ylim([0,50000]), axes[0].set_xlim([0,10000]),axes[0].get_xaxis().set_visible(True),axes[0].set_xlabel(\"Distance\"), axes[0].set_ylabel(\"Amount Purchased\")\n",
    "axes[1].scatter(x2,y2,c='red'),axes[1].set_ylim([0,50000]),axes[1].set_xlim([0,10000]),axes[1].set_title(\"shop2\"),axes[1].get_xaxis().set_visible(True),axes[1].get_yaxis().set_visible(False)\n",
    "axes[2].scatter(x3,y3,c='purple'),axes[2].set_ylim([0,50000]),axes[2].set_xlim([0,10000]),axes[2].set_title(\"shop3\"),axes[2].get_yaxis().set_visible(False),axes[2].get_xaxis().set_visible(True)\n",
    "axes[3].scatter(x4,y4,c = 'green'),axes[3].set_ylim([0,50000]),axes[3].set_xlim([0,10000]),axes[3].set_title(\"shop4\"),axes[3].get_yaxis().set_visible(False),axes[3].get_xaxis().set_visible(True)\n",
    "axes[4].scatter(x5,y5, c='yellow'),axes[4].set_ylim([0,50000]),axes[4].set_xlim([0,10000]),axes[4].set_title(\"shop5\"),axes[4].get_yaxis().set_visible(False),axes[4].get_xaxis().set_visible(True)"
   ]
  },
  {
   "cell_type": "markdown",
   "metadata": {},
   "source": [
    "#### Seems like shop3, shop4 and shop5 are highly dependent on distance to the shop, and maybe shop1 and shop2 are less dependent."
   ]
  },
  {
   "cell_type": "markdown",
   "metadata": {},
   "source": [
    "#### Maybe product variety has an influence.\n",
    "\n",
    "#### Since the dataset doesn't directly tell us variety, we can use the amount of unique products purchased by customers as a relatively accurate estimator "
   ]
  },
  {
   "cell_type": "code",
   "execution_count": 12,
   "metadata": {
    "collapsed": false
   },
   "outputs": [
    {
     "data": {
      "text/plain": [
       "unique_products_purchased_shop_1    222.299374\n",
       "unique_products_purchased_shop_2    126.611354\n",
       "unique_products_purchased_shop_3     31.908094\n",
       "unique_products_purchased_shop_4     11.568631\n",
       "unique_products_purchased_shop_5     15.768214\n",
       "dtype: float64"
      ]
     },
     "execution_count": 12,
     "metadata": {},
     "output_type": "execute_result"
    }
   ],
   "source": [
    "variety = df[['unique_products_purchased_shop_1','unique_products_purchased_shop_2',\n",
    "              'unique_products_purchased_shop_3','unique_products_purchased_shop_4',\n",
    "              'unique_products_purchased_shop_5']].mean()\n",
    "variety"
   ]
  },
  {
   "cell_type": "code",
   "execution_count": 13,
   "metadata": {
    "collapsed": false
   },
   "outputs": [
    {
     "data": {
      "text/plain": [
       "unique_products_purchased_shop_1    19.215702\n",
       "unique_products_purchased_shop_2    10.944368\n",
       "unique_products_purchased_shop_3     2.758156\n",
       "unique_products_purchased_shop_4     1.000000\n",
       "unique_products_purchased_shop_5     1.363015\n",
       "dtype: float64"
      ]
     },
     "execution_count": 13,
     "metadata": {},
     "output_type": "execute_result"
    }
   ],
   "source": [
    "norm_var = variety/variety.unique_products_purchased_shop_4\n",
    "norm_var"
   ]
  },
  {
   "cell_type": "code",
   "execution_count": 14,
   "metadata": {
    "collapsed": false
   },
   "outputs": [
    {
     "data": {
      "image/png": "[encoded data removed]",
      "text/plain": [
       "<matplotlib.figure.Figure at 0x114afeb90>"
      ]
     },
     "metadata": {},
     "output_type": "display_data"
    }
   ],
   "source": [
    "barlist = plt.bar(shops,norm_var)\n",
    "barlist[1].set_color('r')\n",
    "barlist[2].set_color('purple')\n",
    "barlist[3].set_color('g')\n",
    "barlist[4].set_color('y')\n",
    "plt.xticks(shops, shop_names)\n",
    "plt.ylabel('Product Variety compared to shop #4 ')\n",
    "plt.show()"
   ]
  },
  {
   "cell_type": "markdown",
   "metadata": {},
   "source": [
    "#### As we can see, shop1 and shop2 have a lot of variety compared to the other 3 shops.\n",
    "#### Normalizing we can see Shop4 has the least variety and shop1 has approx. 19x the variety as Shop4"
   ]
  },
  {
   "cell_type": "markdown",
   "metadata": {
    "collapsed": true
   },
   "source": [
    "#### By the graphs, we might hypothesize that variety and total amount purchased are proportionally related, where as variety and distance to customers are inversely related. As variety increases, the distance to customers becomes less of a factor.  "
   ]
  },
  {
   "cell_type": "markdown",
   "metadata": {
    "collapsed": true
   },
   "source": [
    "### Do all customers shop with a similar mindsight? Maybe the group of customers that spend more have different trends?"
   ]
  },
  {
   "cell_type": "markdown",
   "metadata": {},
   "source": [
    "#### Lets take a look at the top 20% of customers that spend the most. Maybe to 80/20 rule holds."
   ]
  },
  {
   "cell_type": "code",
   "execution_count": 15,
   "metadata": {
    "collapsed": false
   },
   "outputs": [
    {
     "data": {
      "text/plain": [
       "count    60365.000000\n",
       "mean      4235.493251\n",
       "std       5006.777082\n",
       "min          0.212000\n",
       "50%       2355.138000\n",
       "75%       6054.631000\n",
       "80%       7345.430800\n",
       "max      51588.656000\n",
       "Name: amount_purchased, dtype: float64"
      ]
     },
     "execution_count": 15,
     "metadata": {},
     "output_type": "execute_result"
    }
   ],
   "source": [
    "df['amount_purchased'].describe(percentiles=[.75,.8])"
   ]
  },
  {
   "cell_type": "markdown",
   "metadata": {},
   "source": [
    "#### The top 20% of customers purchase amount is greater than or equal to 7345.\n",
    "\n",
    "#### Let's check how much of the gross purchases these '20 percenters' account for."
   ]
  },
  {
   "cell_type": "code",
   "execution_count": 16,
   "metadata": {
    "collapsed": false
   },
   "outputs": [
    {
     "name": "stdout",
     "output_type": "stream",
     "text": [
      "(0.5909884818623873, 0.6697901976817722)\n"
     ]
    }
   ],
   "source": [
    "perc_twenty = df[df['amount_purchased']>7345].amount_purchased.sum()/df['amount_purchased'].sum()\n",
    "perc_twentyfive = df[df['amount_purchased']>6054].amount_purchased.sum()/df['amount_purchased'].sum()\n",
    "print (perc_twenty,perc_twentyfive)"
   ]
  },
  {
   "cell_type": "markdown",
   "metadata": {},
   "source": [
    "#### So 20% of the customers have the total buying power of about 60% of the total customer base.\n",
    "#### Increasing that to 25% (by 5%) of the top spenders only increases the buying power by 8%. Essentially, it seems like it would be most efficient to target the top 20%, as that would allow the client to allocate finite resources in order to bring in the most revenue possible. \n"
   ]
  },
  {
   "cell_type": "markdown",
   "metadata": {},
   "source": [
    "#### Lets make a graph to see what segment of the customers would bring in the most revenue"
   ]
  },
  {
   "cell_type": "code",
   "execution_count": 17,
   "metadata": {
    "collapsed": false
   },
   "outputs": [],
   "source": [
    "cust = df.sort_values('amount_purchased',ascending = False)"
   ]
  },
  {
   "cell_type": "code",
   "execution_count": 18,
   "metadata": {
    "collapsed": false
   },
   "outputs": [],
   "source": [
    "x =np.linspace(1,100,num=len(df))\n",
    "per_cum = cust.amount_purchased/cust.amount_purchased.sum()\n",
    "per_cum = np.cumsum(per_cum)"
   ]
  },
  {
   "cell_type": "code",
   "execution_count": 19,
   "metadata": {
    "collapsed": false
   },
   "outputs": [
    {
     "data": {
      "text/plain": [
       "<matplotlib.text.Text at 0x11c544b50>"
      ]
     },
     "execution_count": 19,
     "metadata": {},
     "output_type": "execute_result"
    },
    {
     "data": {
      "image/png": "[encoded data removed]",
      "text/plain": [
       "<matplotlib.figure.Figure at 0x114afe990>"
      ]
     },
     "metadata": {},
     "output_type": "display_data"
    }
   ],
   "source": [
    "plt.plot(x,per_cum*100,'-r',markersize = 0.1)\n",
    "plt.xlabel('Percentage of Customers(%)')\n",
    "plt.ylabel('Total market share percentage(%)')\n",
    "plt.title('Top Spending Customers vs Market Share')"
   ]
  },
  {
   "cell_type": "markdown",
   "metadata": {
    "collapsed": false
   },
   "source": [
    "#### From the graph above we can infer that targeting about 30% of the top customers would bring in close to 70% of the market share. This general target seems like the most efficient way to proceed. "
   ]
  },
  {
   "cell_type": "markdown",
   "metadata": {
    "collapsed": true
   },
   "source": [
    "### Insights and Hypotheses"
   ]
  },
  {
   "cell_type": "markdown",
   "metadata": {
    "collapsed": true
   },
   "source": [
    "#### Insights - Looking at the short analysis above:\n",
    "1. The company should be focusing primarily on the buying habits of the top 30% \n",
    "2. The latter 70% of the customers only bring in about 30% of the revenue. Therefore  it would be inefficient and resource draining to allocate time and money to target that section of the population. "
   ]
  },
  {
   "cell_type": "markdown",
   "metadata": {
    "collapsed": true
   },
   "source": [
    "#### Hypotheses \n",
    "1. The top 30% enjoys shops with more variety.\n",
    "2. Distance is less of a factor to the top 30% \n",
    "3. Since customers do not buy at all 5 shops(usually only 2), they want the shops that cover all their needs (ie more variety).\n",
    "4. The more variety a shop has:\n",
    "        - the more customers will want to buy from there\n",
    "        - the less it needs to worry about location "
   ]
  },
  {
   "cell_type": "markdown",
   "metadata": {
    "collapsed": true
   },
   "source": [
    "#### Moving Forward\n",
    "By conducting a more in-depth analysis, such as using clustering techniques and different types of visualization techniques, the goal is to understand that top 30% of customers as best as possible. "
   ]
  },
  {
   "cell_type": "code",
   "execution_count": null,
   "metadata": {
    "collapsed": true
   },
   "outputs": [],
   "source": []
  }
 ],
 "metadata": {
  "kernelspec": {
   "display_name": "Python 2",
   "language": "python",
   "name": "python2"
  },
  "language_info": {
   "codemirror_mode": {
    "name": "ipython",
    "version": 2
   },
   "file_extension": ".py",
   "mimetype": "text/x-python",
   "name": "python",
   "nbconvert_exporter": "python",
   "pygments_lexer": "ipython2",
   "version": "2.7.12"
  }
 },
 "nbformat": 4,
 "nbformat_minor": 0
}
